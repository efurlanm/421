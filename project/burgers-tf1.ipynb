{
 "cells": [
  {
   "cell_type": "markdown",
   "id": "2ce582ed-d948-4b26-8f1b-911cab51199d",
   "metadata": {},
   "source": [
    "# Burgers TensorFlow Implentation\n",
    "\n",
    "Based on:\n",
    "\n",
    "- https://github.com/maziarraissi/PINNs/tree/master/appendix/continuous_time_inference%20(Burgers)\n",
    "- https://people.sc.fsu.edu/~jburkardt/f_src/burgers_solution/burgers_solution.html"
   ]
  },
  {
   "cell_type": "code",
   "execution_count": 13,
   "id": "57ff009d-c043-4f22-a6b3-cfaec2ad737c",
   "metadata": {},
   "outputs": [
    {
     "name": "stdout",
     "output_type": "stream",
     "text": [
      "Overwriting burgers-tf1.py\n"
     ]
    }
   ],
   "source": [
    "%%writefile burgers-tf1.py\n",
    "# TensorFlow 1.15\n",
    "from time import time\n",
    "t0 = time()\n",
    "import tensorflow as tf\n",
    "import logging, os\n",
    "import scipy.io\n",
    "from scipy.interpolate import griddata\n",
    "from pyDOE import lhs\n",
    "from mpl_toolkits.mplot3d import Axes3D\n",
    "from mpl_toolkits.axes_grid1 import make_axes_locatable\n",
    "import numpy as np\n",
    "\n",
    "os.environ['TF_CPP_MIN_LOG_LEVEL'] = '3'\n",
    "tf.compat.v1.logging.set_verbosity(tf.compat.v1.logging.ERROR)\n",
    "np.random.seed(1234)\n",
    "tf.compat.v1.set_random_seed(1234)\n",
    "\n",
    "DATA_BURGERS = 'burgers_shock.mat'\n",
    "\n",
    "data = scipy.io.loadmat(DATA_BURGERS)\n",
    "Exact = np.real(data['usol']).T\n",
    "\n",
    "t = data['t'].flatten()[:, None]\n",
    "x = data['x'].flatten()[:, None]\n",
    "\n",
    "\n",
    "class PhysicsInformedNN:\n",
    "\n",
    "    def __init__(self, X_u, u, X_f, layers, lb, ub, nu):\n",
    "        self.lb = lb\n",
    "        self.ub = ub\n",
    "        self.x_u = X_u[:, 0:1]\n",
    "        self.t_u = X_u[:, 1:2]\n",
    "        self.x_f = X_f[:, 0:1]\n",
    "        self.t_f = X_f[:, 1:2]\n",
    "        self.u = u\n",
    "        self.layers = layers\n",
    "        self.nu = nu\n",
    "\n",
    "        # Initialize NNs\n",
    "        self.weights, self.biases = self.initialize_NN(layers)\n",
    "\n",
    "        # tf placeholders and graph\n",
    "        self.sess = tf.compat.v1.Session(config=tf.compat.v1.ConfigProto(\n",
    "            allow_soft_placement=True))\n",
    "        self.x_u_tf = tf.compat.v1.placeholder(tf.float32,\n",
    "                                               shape=[None, self.x_u.shape[1]])\n",
    "        self.t_u_tf = tf.compat.v1.placeholder(tf.float32,\n",
    "                                               shape=[None, self.t_u.shape[1]])\n",
    "        self.u_tf = tf.compat.v1.placeholder(tf.float32,\n",
    "                                             shape=[None, self.u.shape[1]])\n",
    "        self.x_f_tf = tf.compat.v1.placeholder(tf.float32,\n",
    "                                               shape=[None, self.x_f.shape[1]])\n",
    "        self.t_f_tf = tf.compat.v1.placeholder(tf.float32,\n",
    "                                               shape=[None, self.t_f.shape[1]])\n",
    "        self.u_pred = self.net_u(self.x_u_tf, self.t_u_tf)\n",
    "        self.f_pred = self.net_f(self.x_f_tf, self.t_f_tf)\n",
    "        self.loss = tf.reduce_mean(tf.square(self.u_tf - self.u_pred)) + \\\n",
    "                    tf.reduce_mean(tf.square(self.f_pred))\n",
    "        self.optimizer = tf.contrib.opt.ScipyOptimizerInterface(\n",
    "            self.loss,\n",
    "            method='L-BFGS-B',\n",
    "            options={\n",
    "                'maxiter': 50000,\n",
    "                'maxfun': 50000,\n",
    "                'maxcor': 50,\n",
    "                'maxls': 50,\n",
    "                'ftol': 1.0 * np.finfo(float).eps\n",
    "            })\n",
    "        init = tf.compat.v1.global_variables_initializer()\n",
    "        self.sess.run(init)\n",
    "\n",
    "    def initialize_NN(self, layers):\n",
    "        weights = []\n",
    "        biases = []\n",
    "        num_layers = len(layers)\n",
    "        for l in range(0, num_layers - 1):\n",
    "            W = self.xavier_init(size=[layers[l], layers[l + 1]])\n",
    "            b = tf.Variable(tf.zeros([1, layers[l + 1]], dtype=tf.float32),\n",
    "                            dtype=tf.float32)\n",
    "            weights.append(W)\n",
    "            biases.append(b)\n",
    "        return weights, biases\n",
    "\n",
    "    def xavier_init(self, size):\n",
    "        in_dim = size[0]\n",
    "        out_dim = size[1]\n",
    "        xavier_stddev = np.sqrt(2 / (in_dim + out_dim))\n",
    "        return tf.Variable(tf.random.truncated_normal([in_dim, out_dim],\n",
    "                                                      stddev=xavier_stddev),\n",
    "                           dtype=tf.float32)\n",
    "\n",
    "    def neural_net(self, X, weights, biases):\n",
    "        num_layers = len(weights) + 1\n",
    "        H = 2.0 * (X - self.lb) / (self.ub - self.lb) - 1.0\n",
    "        for l in range(0, num_layers - 2):\n",
    "            W = weights[l]\n",
    "            b = biases[l]\n",
    "            H = tf.tanh(tf.add(tf.matmul(H, W), b))\n",
    "        W = weights[-1]\n",
    "        b = biases[-1]\n",
    "        Y = tf.add(tf.matmul(H, W), b)\n",
    "        return Y\n",
    "\n",
    "    def net_u(self, x, t):\n",
    "        u = self.neural_net(tf.concat([x, t], 1), self.weights, self.biases)\n",
    "        return u\n",
    "\n",
    "    def net_f(self, x, t):\n",
    "        u = self.net_u(x, t)\n",
    "        u_t = tf.gradients(u, t)[0]\n",
    "        u_x = tf.gradients(u, x)[0]\n",
    "        u_xx = tf.gradients(u_x, x)[0]\n",
    "        f = u_t + u * u_x - self.nu * u_xx\n",
    "        return f\n",
    "\n",
    "    # def callback(self, loss):\n",
    "    #     print('Loss:', loss)\n",
    "\n",
    "    def train(self):\n",
    "        tf_dict = {\n",
    "            self.x_u_tf: self.x_u,\n",
    "            self.t_u_tf: self.t_u,\n",
    "            self.u_tf: self.u,\n",
    "            self.x_f_tf: self.x_f,\n",
    "            self.t_f_tf: self.t_f\n",
    "        }\n",
    "        self.optimizer.minimize(\n",
    "            self.sess,\n",
    "            feed_dict=tf_dict,\n",
    "            fetches=[self.loss],\n",
    "            # loss_callback=self.callback\n",
    "        )\n",
    "\n",
    "    def predict(self, X_star):\n",
    "        u_star = self.sess.run(self.u_pred, {\n",
    "            self.x_u_tf: X_star[:, 0:1],\n",
    "            self.t_u_tf: X_star[:, 1:2]\n",
    "        })\n",
    "        f_star = self.sess.run(self.f_pred, {\n",
    "            self.x_f_tf: X_star[:, 0:1],\n",
    "            self.t_f_tf: X_star[:, 1:2]\n",
    "        })\n",
    "        return u_star, f_star\n",
    "\n",
    "\n",
    "nu = 0.01 / np.pi\n",
    "#N_u = 100\n",
    "#N_f = 10000\n",
    "N_u = 100\n",
    "N_f = 100\n",
    "layers = [2, 20, 20, 20, 20, 20, 20, 20, 20, 1]\n",
    "\n",
    "data = scipy.io.loadmat(DATA_BURGERS)\n",
    "\n",
    "t = data['t'].flatten()[:, None]\n",
    "x = data['x'].flatten()[:, None]\n",
    "Exact = np.real(data['usol']).T  # Exact\n",
    "X, T = np.meshgrid(x, t)\n",
    "X_star = np.hstack((X.flatten()[:, None], T.flatten()[:, None]))\n",
    "u_star = Exact.flatten()[:, None]  # Exact\n",
    "\n",
    "# Doman bounds\n",
    "lb = X_star.min(0)\n",
    "ub = X_star.max(0)\n",
    "\n",
    "xx1 = np.hstack((X[0:1, :].T, T[0:1, :].T))\n",
    "xx2 = np.hstack((X[:, 0:1], T[:, 0:1]))\n",
    "xx3 = np.hstack((X[:, -1:], T[:, -1:]))\n",
    "X_u_train = np.vstack([xx1, xx2, xx3])\n",
    "X_f_train = lb + (ub - lb) * lhs(2, N_f)\n",
    "X_f_train = np.vstack((X_f_train, X_u_train))\n",
    "idx = np.random.choice(X_u_train.shape[0], N_u, replace=False)\n",
    "X_u_train = X_u_train[idx, :]\n",
    "\n",
    "# Exact\n",
    "uu1 = Exact[0:1, :].T\n",
    "uu2 = Exact[:, 0:1]\n",
    "uu3 = Exact[:, -1:]\n",
    "u_train = np.vstack([uu1, uu2, uu3])\n",
    "u_train = u_train[idx, :]  # Exact\n",
    "\n",
    "model = PhysicsInformedNN(X_u_train, u_train, X_f_train, layers, lb, ub, nu)\n",
    "\n",
    "t1 = time()\n",
    "model.train()\n",
    "t2 = time()\n",
    "print(f\"Train: {t2-t1:.4f}\")\n",
    "\n",
    "for _ in range(1000):\n",
    "    u_pred, f_pred = model.predict(X_star)\n",
    "t3 = time()\n",
    "print(f\"Predict x1000: {t3-t2:.4f}\")\n",
    "print(f\"Elapsed: {t3-t0:.4f}\")"
   ]
  },
  {
   "cell_type": "markdown",
   "id": "f4b4061a-9c21-4c88-98ac-7d51f465c17b",
   "metadata": {},
   "source": [
    "Predict x1:"
   ]
  },
  {
   "cell_type": "code",
   "execution_count": 12,
   "id": "693affdb-50d2-4ffc-a8af-d22621daacd1",
   "metadata": {},
   "outputs": [
    {
     "name": "stdout",
     "output_type": "stream",
     "text": [
      "Train: 28.2204\n",
      "Predict: 0.3404\n",
      "Elapsed: 35.9391\n",
      "32.33user 1.76system 0:36.40elapsed 93%CPU (0avgtext+0avgdata 370028maxresident)k\n",
      "0inputs+8outputs (0major+243476minor)pagefaults 0swaps\n",
      "CPU times: user 429 ms, sys: 88.7 ms, total: 517 ms\n",
      "Wall time: 36.5 s\n"
     ]
    }
   ],
   "source": [
    "%%time\n",
    "! numactl -C 1 time python burgers-tf1.py"
   ]
  },
  {
   "cell_type": "code",
   "execution_count": 14,
   "id": "3afd528a-eb64-44df-9c26-b01ba37de4a1",
   "metadata": {},
   "outputs": [
    {
     "name": "stdout",
     "output_type": "stream",
     "text": [
      "Train: 19.9331\n",
      "Predict: 0.2690\n",
      "Elapsed: 27.0448\n",
      "\n",
      "real\t0m27.507s\n",
      "user\t0m56.078s\n",
      "sys\t0m6.237s\n",
      "CPU times: user 384 ms, sys: 65.1 ms, total: 449 ms\n",
      "Wall time: 27.6 s\n"
     ]
    }
   ],
   "source": [
    "%%time\n",
    "! time python burgers-tf1.py"
   ]
  },
  {
   "cell_type": "code",
   "execution_count": null,
   "id": "a66d70af-9857-465d-abf5-b5c5357c4959",
   "metadata": {},
   "outputs": [],
   "source": []
  },
  {
   "cell_type": "code",
   "execution_count": 14,
   "id": "b6cc3621-d602-4ba3-93de-970d07bdd460",
   "metadata": {},
   "outputs": [],
   "source": [
    "%%bash\n",
    "BASE=/scratch${HOME#/prj}/421\n",
    "cp burgers-tf1.py burgers_shock.mat $BASE"
   ]
  },
  {
   "cell_type": "code",
   "execution_count": 15,
   "id": "a6a40981-543c-4ccd-b471-8958d60183ff",
   "metadata": {},
   "outputs": [
    {
     "name": "stdout",
     "output_type": "stream",
     "text": [
      "Overwriting burgftf.srm\n"
     ]
    }
   ],
   "source": [
    "%%writefile burgftf.srm\n",
    "#!/bin/bash\n",
    "#SBATCH --job-name burgftf      # SLURM_JOB_NAME\n",
    "#SBATCH --partition cpu_dev     # SLURM_JOB_PARTITION\n",
    "#SBATCH --nodes=1               # SLURM_JOB_NUM_NODES\n",
    "#SBATCH --ntasks-per-node=1     # SLURM_NTASKS_PER_NODE\n",
    "#SBATCH --cpus-per-task=1       # SLURM_CPUS_PER_TASK  $OMP_THREADS\n",
    "#SBATCH --time=00:05:00         # Limit execution time\n",
    "\n",
    "# VARIABLES OF INTEREST IN THE SLURM ENVIRONMENT\n",
    "# <https://slurm.schedmd.com/sbatch.html>\n",
    "# SLURM_PROCID\n",
    "#     The MPI rank (or relative process ID) of the current process.\n",
    "# SLURM_LOCALID\n",
    "#     Node local task ID for the process within a job.\n",
    "# SLURM_NODEID\n",
    "#     ID of the nodes allocated. \n",
    "\n",
    "echo '========================================'\n",
    "echo '- Job ID:' $SLURM_JOB_ID\n",
    "echo '- # of nodes in the job:' $SLURM_JOB_NUM_NODES\n",
    "echo '- # of tasks per node:' $SLURM_NTASKS_PER_NODE\n",
    "echo '- # of tasks:' $SLURM_NTASKS\n",
    "echo '- # of cpus per task:' $SLURM_CPUS_PER_TASK\n",
    "echo '- Dir from which sbatch was invoked:' ${SLURM_SUBMIT_DIR##*/}\n",
    "echo -n '- Nodes allocated to the job: '\n",
    "nodeset -e $SLURM_JOB_NODELIST\n",
    "\n",
    "# load the Python environment\n",
    "SCR=/scratch${PWD#/prj}\n",
    "BASE=/scratch${HOME#/prj}/miniconda3\n",
    "source $BASE/etc/profile.d/conda.sh\n",
    "conda activate\n",
    "conda activate tf1\n",
    "cd $SCR\n",
    "\n",
    "# run\n",
    "echo -n '<1. starting> ' && date\n",
    "echo \"OMP_NUM_THREADS=$SLURM_CPUS_PER_TASK\"\n",
    "echo '-- output -----------------------------'\n",
    "               \n",
    "export OMP_NUM_THREADS=$SLURM_CPUS_PER_TASK\n",
    "srun -n $SLURM_NTASKS -c $SLURM_CPUS_PER_TASK time python burgers-tf1.py\n",
    "               \n",
    "echo '-- end --------------------------------'\n",
    "echo -n '<2. quit>                    ' && date"
   ]
  },
  {
   "cell_type": "code",
   "execution_count": 1,
   "id": "1998042a-68d3-4dea-a0b6-51bdcd5c2de2",
   "metadata": {},
   "outputs": [],
   "source": [
    "import time\n",
    "\n",
    "def runtest(tasks):\n",
    "    sub = !sbatch --cpus-per-task={tasks} burgftf.srm\n",
    "    print(sub[0], end='.')\n",
    "    job = sub[0].replace('Submitted batch job ','')\n",
    "    c = [job]\n",
    "    while job in c:\n",
    "        time.sleep(10)\n",
    "        print(end='.')\n",
    "        c = !squeue --job {job} --noheader --format \"%i\"\n",
    "    print('')\n",
    "    out = !echo /scratch${PWD#/prj}/slurm-\n",
    "    %cat {out[0] + job}.out"
   ]
  },
  {
   "cell_type": "markdown",
   "id": "e0aa4150-ebd6-4d9b-9964-a3ffcef05fb6",
   "metadata": {},
   "source": [
    "## Predict 1x"
   ]
  },
  {
   "cell_type": "code",
   "execution_count": 5,
   "id": "19d049f7-34f4-4b71-aaf7-e1887272fdef",
   "metadata": {},
   "outputs": [
    {
     "name": "stdout",
     "output_type": "stream",
     "text": [
      "Submitted batch job 10724580.................\n",
      "========================================\n",
      "- Job ID: 10724580\n",
      "- # of nodes in the job: 1\n",
      "- # of tasks per node: 1\n",
      "- # of tasks: 1\n",
      "- # of cpus per task: 1\n",
      "- Dir from which sbatch was invoked: 421\n",
      "- Nodes allocated to the job: sdumont1487\n",
      "<1. starting> Dom Dez 11 18:59:10 -03 2022\n",
      "OMP_NUM_THREADS=1\n",
      "-- output -----------------------------\n",
      "Train: 31.4064\n",
      "Predict: 0.3318\n",
      "Elapsed: 143.0704\n",
      "33.40user 3.06system 2:26.46elapsed 24%CPU (0avgtext+0avgdata 380160maxresident)k\n",
      "1737424inputs+408outputs (114major+237124minor)pagefaults 0swaps\n",
      "-- end --------------------------------\n",
      "<2. quit>                    Dom Dez 11 19:01:36 -03 2022\n"
     ]
    }
   ],
   "source": [
    "runtest(1)"
   ]
  },
  {
   "cell_type": "code",
   "execution_count": 6,
   "id": "2d83ffee-2c7e-4468-bf8c-35a083260765",
   "metadata": {},
   "outputs": [
    {
     "name": "stdout",
     "output_type": "stream",
     "text": [
      "Submitted batch job 10724593................\n",
      "========================================\n",
      "- Job ID: 10724593\n",
      "- # of nodes in the job: 1\n",
      "- # of tasks per node: 1\n",
      "- # of tasks: 1\n",
      "- # of cpus per task: 2\n",
      "- Dir from which sbatch was invoked: 421\n",
      "- Nodes allocated to the job: sdumont1000\n",
      "<1. starting> Dom Dez 11 19:16:37 -03 2022\n",
      "OMP_NUM_THREADS=2\n",
      "-- output -----------------------------\n",
      "Train: 25.9244\n",
      "Predict: 0.3277\n",
      "Elapsed: 128.3989\n",
      "38.12user 2.95system 2:11.45elapsed 31%CPU (0avgtext+0avgdata 371952maxresident)k\n",
      "891968inputs+8outputs (2major+192034minor)pagefaults 0swaps\n",
      "-- end --------------------------------\n",
      "<2. quit>                    Dom Dez 11 19:18:49 -03 2022\n"
     ]
    }
   ],
   "source": [
    "runtest(2)"
   ]
  },
  {
   "cell_type": "code",
   "execution_count": 7,
   "id": "dfe893d7-e001-4671-94db-900f27db81b2",
   "metadata": {},
   "outputs": [
    {
     "name": "stdout",
     "output_type": "stream",
     "text": [
      "Submitted batch job 10724596...............\n",
      "========================================\n",
      "- Job ID: 10724596\n",
      "- # of nodes in the job: 1\n",
      "- # of tasks per node: 1\n",
      "- # of tasks: 1\n",
      "- # of cpus per task: 4\n",
      "- Dir from which sbatch was invoked: 421\n",
      "- Nodes allocated to the job: sdumont1008\n",
      "<1. starting> Dom Dez 11 19:20:52 -03 2022\n",
      "OMP_NUM_THREADS=4\n",
      "-- output -----------------------------\n",
      "Train: 22.6933\n",
      "Predict: 0.3363\n",
      "Elapsed: 120.6783\n",
      "45.49user 4.65system 2:04.14elapsed 40%CPU (0avgtext+0avgdata 382760maxresident)k\n",
      "873824inputs+8outputs (0major+189603minor)pagefaults 0swaps\n",
      "-- end --------------------------------\n",
      "<2. quit>                    Dom Dez 11 19:22:58 -03 2022\n"
     ]
    }
   ],
   "source": [
    "runtest(4)"
   ]
  },
  {
   "cell_type": "code",
   "execution_count": 8,
   "id": "a12c2dff-f980-484f-a1d8-7a38ba9ad5cb",
   "metadata": {},
   "outputs": [
    {
     "name": "stdout",
     "output_type": "stream",
     "text": [
      "Submitted batch job 10724602..............\n",
      "========================================\n",
      "- Job ID: 10724602\n",
      "- # of nodes in the job: 1\n",
      "- # of tasks per node: 1\n",
      "- # of tasks: 1\n",
      "- # of cpus per task: 8\n",
      "- Dir from which sbatch was invoked: 421\n",
      "- Nodes allocated to the job: sdumont1008\n",
      "<1. starting> Dom Dez 11 19:27:08 -03 2022\n",
      "OMP_NUM_THREADS=8\n",
      "-- output -----------------------------\n",
      "Train: 24.4757\n",
      "Predict: 0.3090\n",
      "Elapsed: 114.6924\n",
      "50.39user 6.24system 1:57.78elapsed 48%CPU (0avgtext+0avgdata 391344maxresident)k\n",
      "892016inputs+8outputs (2major+204785minor)pagefaults 0swaps\n",
      "-- end --------------------------------\n",
      "<2. quit>                    Dom Dez 11 19:29:06 -03 2022\n"
     ]
    }
   ],
   "source": [
    "runtest(8)"
   ]
  },
  {
   "cell_type": "code",
   "execution_count": 9,
   "id": "f27eae07-cb6c-4244-91b2-5da4c14baab0",
   "metadata": {},
   "outputs": [
    {
     "name": "stdout",
     "output_type": "stream",
     "text": [
      "Submitted batch job 10724603.............\n",
      "========================================\n",
      "- Job ID: 10724603\n",
      "- # of nodes in the job: 1\n",
      "- # of tasks per node: 1\n",
      "- # of tasks: 1\n",
      "- # of cpus per task: 16\n",
      "- Dir from which sbatch was invoked: 421\n",
      "- Nodes allocated to the job: sdumont1008\n",
      "<1. starting> Dom Dez 11 19:29:20 -03 2022\n",
      "OMP_NUM_THREADS=16\n",
      "-- output -----------------------------\n",
      "Train: 23.3984\n",
      "Predict: 0.2872\n",
      "Elapsed: 100.8578\n",
      "55.81user 7.70system 1:43.72elapsed 61%CPU (0avgtext+0avgdata 415196maxresident)k\n",
      "892016inputs+8outputs (4major+243106minor)pagefaults 0swaps\n",
      "-- end --------------------------------\n",
      "<2. quit>                    Dom Dez 11 19:31:04 -03 2022\n"
     ]
    }
   ],
   "source": [
    "runtest(16)"
   ]
  },
  {
   "cell_type": "code",
   "execution_count": 10,
   "id": "6b4045e9-b7f7-42c3-b05c-f6e151652e37",
   "metadata": {},
   "outputs": [
    {
     "name": "stdout",
     "output_type": "stream",
     "text": [
      "Submitted batch job 10724605..............\n",
      "========================================\n",
      "- Job ID: 10724605\n",
      "- # of nodes in the job: 1\n",
      "- # of tasks per node: 1\n",
      "- # of tasks: 1\n",
      "- # of cpus per task: 24\n",
      "- Dir from which sbatch was invoked: 421\n",
      "- Nodes allocated to the job: sdumont1008\n",
      "<1. starting> Dom Dez 11 19:31:26 -03 2022\n",
      "OMP_NUM_THREADS=24\n",
      "-- output -----------------------------\n",
      "Train: 23.6385\n",
      "Predict: 0.2959\n",
      "Elapsed: 111.0270\n",
      "55.55user 7.46system 1:54.02elapsed 55%CPU (0avgtext+0avgdata 410664maxresident)k\n",
      "891960inputs+8outputs (4major+237242minor)pagefaults 0swaps\n",
      "-- end --------------------------------\n",
      "<2. quit>                    Dom Dez 11 19:33:20 -03 2022\n"
     ]
    }
   ],
   "source": [
    "runtest(24)"
   ]
  },
  {
   "cell_type": "markdown",
   "id": "997f1ec7-c2c0-4f44-9fe8-f02d1cfe518e",
   "metadata": {},
   "source": [
    "## Predict 1000x"
   ]
  },
  {
   "cell_type": "code",
   "execution_count": 17,
   "id": "b02dffec-fdc7-4741-91f2-a480d508f064",
   "metadata": {},
   "outputs": [
    {
     "name": "stdout",
     "output_type": "stream",
     "text": [
      "Submitted batch job 10724612.........................\n",
      "========================================\n",
      "- Job ID: 10724612\n",
      "- # of nodes in the job: 1\n",
      "- # of tasks per node: 1\n",
      "- # of tasks: 1\n",
      "- # of cpus per task: 1\n",
      "- Dir from which sbatch was invoked: 421\n",
      "- Nodes allocated to the job: sdumont1230\n",
      "<1. starting> Dom Dez 11 19:40:35 -03 2022\n",
      "OMP_NUM_THREADS=1\n",
      "-- output -----------------------------\n",
      "Train: 30.9801\n",
      "Predict x1000: 100.8024\n",
      "Elapsed: 225.5623\n",
      "121.03user 14.32system 3:49.39elapsed 59%CPU (0avgtext+0avgdata 382996maxresident)k\n",
      "891872inputs+8outputs (0major+6429673minor)pagefaults 0swaps\n",
      "-- end --------------------------------\n",
      "<2. quit>                    Dom Dez 11 19:44:25 -03 2022\n"
     ]
    }
   ],
   "source": [
    "runtest(1)"
   ]
  },
  {
   "cell_type": "code",
   "execution_count": 2,
   "id": "42225c8a-aea4-4304-92ce-c804dc7b67a2",
   "metadata": {},
   "outputs": [
    {
     "name": "stdout",
     "output_type": "stream",
     "text": [
      "Submitted batch job 10725225....................\n",
      "========================================\n",
      "- Job ID: 10725225\n",
      "- # of nodes in the job: 1\n",
      "- # of tasks per node: 1\n",
      "- # of tasks: 1\n",
      "- # of cpus per task: 4\n",
      "- Dir from which sbatch was invoked: 421\n",
      "- Nodes allocated to the job: sdumont1000\n",
      "<1. starting> Seg Dez 12 09:31:36 -03 2022\n",
      "OMP_NUM_THREADS=4\n",
      "-- output -----------------------------\n",
      "Train: 23.0093\n",
      "Predict x1000: 46.5797\n",
      "Elapsed: 171.1143\n",
      "162.93user 29.31system 2:54.33elapsed 110%CPU (0avgtext+0avgdata 401944maxresident)k\n",
      "891968inputs+8outputs (2major+9391715minor)pagefaults 0swaps\n",
      "-- end --------------------------------\n",
      "<2. quit>                    Seg Dez 12 09:34:30 -03 2022\n"
     ]
    }
   ],
   "source": [
    "runtest(4)"
   ]
  },
  {
   "cell_type": "code",
   "execution_count": 18,
   "id": "30f35f46-e4d3-41f2-8d9e-e62d617c6c96",
   "metadata": {},
   "outputs": [
    {
     "name": "stdout",
     "output_type": "stream",
     "text": [
      "Submitted batch job 10724617.................\n",
      "========================================\n",
      "- Job ID: 10724617\n",
      "- # of nodes in the job: 1\n",
      "- # of tasks per node: 1\n",
      "- # of tasks: 1\n",
      "- # of cpus per task: 8\n",
      "- Dir from which sbatch was invoked: 421\n",
      "- Nodes allocated to the job: sdumont1422\n",
      "<1. starting> Dom Dez 11 19:45:55 -03 2022\n",
      "OMP_NUM_THREADS=8\n",
      "-- output -----------------------------\n",
      "Train: 22.5165\n",
      "Predict x1000: 31.9668\n",
      "Elapsed: 140.9470\n",
      "182.81user 36.51system 2:24.27elapsed 152%CPU (0avgtext+0avgdata 420080maxresident)k\n",
      "892024inputs+8outputs (13major+9344281minor)pagefaults 0swaps\n",
      "-- end --------------------------------\n",
      "<2. quit>                    Dom Dez 11 19:48:20 -03 2022\n"
     ]
    }
   ],
   "source": [
    "runtest(8)"
   ]
  },
  {
   "cell_type": "code",
   "execution_count": 19,
   "id": "beb6ec6c-4590-40d7-846d-a0c0fc94c747",
   "metadata": {},
   "outputs": [
    {
     "name": "stdout",
     "output_type": "stream",
     "text": [
      "Submitted batch job 10724620................\n",
      "========================================\n",
      "- Job ID: 10724620\n",
      "- # of nodes in the job: 1\n",
      "- # of tasks per node: 1\n",
      "- # of tasks: 1\n",
      "- # of cpus per task: 16\n",
      "- Dir from which sbatch was invoked: 421\n",
      "- Nodes allocated to the job: sdumont1255\n",
      "<1. starting> Dom Dez 11 19:48:36 -03 2022\n",
      "OMP_NUM_THREADS=16\n",
      "-- output -----------------------------\n",
      "Train: 23.9791\n",
      "Predict x1000: 28.4343\n",
      "Elapsed: 136.4645\n",
      "216.18user 73.54system 2:19.46elapsed 207%CPU (0avgtext+0avgdata 481896maxresident)k\n",
      "905232inputs+8outputs (6major+9828710minor)pagefaults 0swaps\n",
      "-- end --------------------------------\n",
      "<2. quit>                    Dom Dez 11 19:50:56 -03 2022\n"
     ]
    }
   ],
   "source": [
    "runtest(16)"
   ]
  },
  {
   "cell_type": "code",
   "execution_count": 20,
   "id": "569bf61c-e132-4690-ac20-038d7ddaf215",
   "metadata": {},
   "outputs": [
    {
     "name": "stdout",
     "output_type": "stream",
     "text": [
      "Submitted batch job 10724621................\n",
      "========================================\n",
      "- Job ID: 10724621\n",
      "- # of nodes in the job: 1\n",
      "- # of tasks per node: 1\n",
      "- # of tasks: 1\n",
      "- # of cpus per task: 24\n",
      "- Dir from which sbatch was invoked: 421\n",
      "- Nodes allocated to the job: sdumont1255\n",
      "<1. starting> Dom Dez 11 19:51:07 -03 2022\n",
      "OMP_NUM_THREADS=24\n",
      "-- output -----------------------------\n",
      "Train: 24.0846\n",
      "Predict x1000: 27.6478\n",
      "Elapsed: 131.5511\n",
      "245.69user 111.84system 2:14.48elapsed 265%CPU (0avgtext+0avgdata 494516maxresident)k\n",
      "891960inputs+8outputs (3major+9659334minor)pagefaults 0swaps\n",
      "-- end --------------------------------\n",
      "<2. quit>                    Dom Dez 11 19:53:22 -03 2022\n"
     ]
    }
   ],
   "source": [
    "runtest(24)"
   ]
  },
  {
   "cell_type": "markdown",
   "id": "5f7d7aef-170c-4524-8362-d3f042e0ff79",
   "metadata": {},
   "source": [
    "# Execution 2"
   ]
  },
  {
   "cell_type": "code",
   "execution_count": 2,
   "id": "b5d9796b-5f63-49bb-af11-f3507ca7c193",
   "metadata": {},
   "outputs": [
    {
     "name": "stdout",
     "output_type": "stream",
     "text": [
      "Submitted batch job 10724697........................\n",
      "========================================\n",
      "- Job ID: 10724697\n",
      "- # of nodes in the job: 1\n",
      "- # of tasks per node: 1\n",
      "- # of tasks: 1\n",
      "- # of cpus per task: 1\n",
      "- Dir from which sbatch was invoked: 421\n",
      "- Nodes allocated to the job: sdumont1001\n",
      "<1. starting> Dom Dez 11 22:05:49 -03 2022\n",
      "OMP_NUM_THREADS=1\n",
      "-- output -----------------------------\n",
      "Train: 31.1117\n",
      "Predict x1000: 98.6229\n",
      "Elapsed: 223.8540\n",
      "120.97user 12.25system 3:46.78elapsed 58%CPU (0avgtext+0avgdata 383052maxresident)k\n",
      "892016inputs+8outputs (2major+5494642minor)pagefaults 0swaps\n",
      "-- end --------------------------------\n",
      "<2. quit>                    Dom Dez 11 22:09:36 -03 2022\n",
      "Submitted batch job 10724702.................\n",
      "========================================\n",
      "- Job ID: 10724702\n",
      "- # of nodes in the job: 1\n",
      "- # of tasks per node: 1\n",
      "- # of tasks: 1\n",
      "- # of cpus per task: 4\n",
      "- Dir from which sbatch was invoked: 421\n",
      "- Nodes allocated to the job: sdumont1001\n",
      "<1. starting> Dom Dez 11 22:09:49 -03 2022\n",
      "OMP_NUM_THREADS=4\n",
      "-- output -----------------------------\n",
      "Train: 22.2026\n",
      "Predict x1000: 46.8942\n",
      "Elapsed: 144.3276\n",
      "162.96user 29.29system 2:27.49elapsed 130%CPU (0avgtext+0avgdata 411976maxresident)k\n",
      "905224inputs+8outputs (4major+9022920minor)pagefaults 0swaps\n",
      "-- end --------------------------------\n",
      "<2. quit>                    Dom Dez 11 22:12:16 -03 2022\n",
      "Submitted batch job 10724708...............\n",
      "========================================\n",
      "- Job ID: 10724708\n",
      "- # of nodes in the job: 1\n",
      "- # of tasks per node: 1\n",
      "- # of tasks: 1\n",
      "- # of cpus per task: 8\n",
      "- Dir from which sbatch was invoked: 421\n",
      "- Nodes allocated to the job: sdumont1001\n",
      "<1. starting> Dom Dez 11 22:12:34 -03 2022\n",
      "OMP_NUM_THREADS=8\n",
      "-- output -----------------------------\n",
      "Train: 21.6579\n",
      "Predict x1000: 31.9193\n",
      "Elapsed: 129.8272\n",
      "179.74user 38.25system 2:12.64elapsed 164%CPU (0avgtext+0avgdata 446016maxresident)k\n",
      "892016inputs+8outputs (4major+9441280minor)pagefaults 0swaps\n",
      "-- end --------------------------------\n",
      "<2. quit>                    Dom Dez 11 22:14:47 -03 2022\n",
      "Submitted batch job 10724714..............\n",
      "========================================\n",
      "- Job ID: 10724714\n",
      "- # of nodes in the job: 1\n",
      "- # of tasks per node: 1\n",
      "- # of tasks: 1\n",
      "- # of cpus per task: 16\n",
      "- Dir from which sbatch was invoked: 421\n",
      "- Nodes allocated to the job: sdumont1422\n",
      "<1. starting> Dom Dez 11 22:15:01 -03 2022\n",
      "OMP_NUM_THREADS=16\n",
      "-- output -----------------------------\n",
      "Train: 22.4211\n",
      "Predict x1000: 28.7621\n",
      "Elapsed: 119.7167\n",
      "218.12user 74.96system 2:02.86elapsed 238%CPU (0avgtext+0avgdata 505272maxresident)k\n",
      "905232inputs+8outputs (6major+10010430minor)pagefaults 0swaps\n",
      "-- end --------------------------------\n",
      "<2. quit>                    Dom Dez 11 22:17:04 -03 2022\n",
      "Submitted batch job 10724717..............\n",
      "========================================\n",
      "- Job ID: 10724717\n",
      "- # of nodes in the job: 1\n",
      "- # of tasks per node: 1\n",
      "- # of tasks: 1\n",
      "- # of cpus per task: 24\n",
      "- Dir from which sbatch was invoked: 421\n",
      "- Nodes allocated to the job: sdumont1422\n",
      "<1. starting> Dom Dez 11 22:17:13 -03 2022\n",
      "OMP_NUM_THREADS=24\n",
      "-- output -----------------------------\n",
      "Train: 24.1106\n",
      "Predict x1000: 27.4556\n",
      "Elapsed: 117.9264\n",
      "247.98user 107.81system 2:01.42elapsed 293%CPU (0avgtext+0avgdata 539032maxresident)k\n",
      "892016inputs+8outputs (7major+9418017minor)pagefaults 0swaps\n",
      "-- end --------------------------------\n",
      "<2. quit>                    Dom Dez 11 22:19:15 -03 2022\n"
     ]
    }
   ],
   "source": [
    "runtest(1)\n",
    "runtest(4)\n",
    "runtest(8)\n",
    "runtest(16)\n",
    "runtest(24)"
   ]
  },
  {
   "cell_type": "markdown",
   "id": "7756f1a9-5d5a-476e-a105-547d14f95133",
   "metadata": {},
   "source": [
    "# Execution 3"
   ]
  },
  {
   "cell_type": "code",
   "execution_count": 3,
   "id": "f72ed901-bb00-4424-b56a-5b96a648322b",
   "metadata": {},
   "outputs": [
    {
     "name": "stdout",
     "output_type": "stream",
     "text": [
      "Submitted batch job 10724719.....................\n",
      "========================================\n",
      "- Job ID: 10724719\n",
      "- # of nodes in the job: 1\n",
      "- # of tasks per node: 1\n",
      "- # of tasks: 1\n",
      "- # of cpus per task: 1\n",
      "- Dir from which sbatch was invoked: 421\n",
      "- Nodes allocated to the job: sdumont1422\n",
      "<1. starting> Dom Dez 11 22:19:29 -03 2022\n",
      "OMP_NUM_THREADS=1\n",
      "-- output -----------------------------\n",
      "Train: 28.8894\n",
      "Predict x1000: 102.4999\n",
      "Elapsed: 197.5665\n",
      "121.08user 15.61system 3:20.40elapsed 68%CPU (0avgtext+0avgdata 380432maxresident)k\n",
      "905208inputs+8outputs (2major+7298870minor)pagefaults 0swaps\n",
      "-- end --------------------------------\n",
      "<2. quit>                    Dom Dez 11 22:22:50 -03 2022\n",
      "Submitted batch job 10724723...............\n",
      "========================================\n",
      "- Job ID: 10724723\n",
      "- # of nodes in the job: 1\n",
      "- # of tasks per node: 1\n",
      "- # of tasks: 1\n",
      "- # of cpus per task: 4\n",
      "- Dir from which sbatch was invoked: 421\n",
      "- Nodes allocated to the job: sdumont1009\n",
      "<1. starting> Dom Dez 11 22:22:57 -03 2022\n",
      "OMP_NUM_THREADS=4\n",
      "-- output -----------------------------\n",
      "Train: 21.1996\n",
      "Predict x1000: 46.8349\n",
      "Elapsed: 132.2262\n",
      "162.67user 30.06system 2:14.80elapsed 142%CPU (0avgtext+0avgdata 399884maxresident)k\n",
      "891888inputs+8outputs (1major+9387773minor)pagefaults 0swaps\n",
      "-- end --------------------------------\n",
      "<2. quit>                    Dom Dez 11 22:25:12 -03 2022\n",
      "Submitted batch job 10724724..............\n",
      "========================================\n",
      "- Job ID: 10724724\n",
      "- # of nodes in the job: 1\n",
      "- # of tasks per node: 1\n",
      "- # of tasks: 1\n",
      "- # of cpus per task: 8\n",
      "- Dir from which sbatch was invoked: 421\n",
      "- Nodes allocated to the job: sdumont1422\n",
      "<1. starting> Dom Dez 11 22:25:24 -03 2022\n",
      "OMP_NUM_THREADS=8\n",
      "-- output -----------------------------\n",
      "Train: 20.9003\n",
      "Predict x1000: 32.2972\n",
      "Elapsed: 116.7251\n",
      "184.21user 37.09system 1:59.50elapsed 185%CPU (0avgtext+0avgdata 442116maxresident)k\n",
      "892016inputs+8outputs (7major+9343027minor)pagefaults 0swaps\n",
      "-- end --------------------------------\n",
      "<2. quit>                    Dom Dez 11 22:27:24 -03 2022\n",
      "Submitted batch job 10724725.............\n",
      "========================================\n",
      "- Job ID: 10724725\n",
      "- # of nodes in the job: 1\n",
      "- # of tasks per node: 1\n",
      "- # of tasks: 1\n",
      "- # of cpus per task: 16\n",
      "- Dir from which sbatch was invoked: 421\n",
      "- Nodes allocated to the job: sdumont1422\n",
      "<1. starting> Dom Dez 11 22:27:39 -03 2022\n",
      "OMP_NUM_THREADS=16\n",
      "-- output -----------------------------\n",
      "Train: 21.2781\n",
      "Predict x1000: 28.3736\n",
      "Elapsed: 110.4418\n",
      "218.61user 72.51system 1:53.22elapsed 257%CPU (0avgtext+0avgdata 494988maxresident)k\n",
      "892016inputs+8outputs (9major+9623414minor)pagefaults 0swaps\n",
      "-- end --------------------------------\n",
      "<2. quit>                    Dom Dez 11 22:29:32 -03 2022\n",
      "Submitted batch job 10724729...........\n",
      "========================================\n",
      "- Job ID: 10724729\n",
      "- # of nodes in the job: 1\n",
      "- # of tasks per node: 1\n",
      "- # of tasks: 1\n",
      "- # of cpus per task: 24\n",
      "- Dir from which sbatch was invoked: 421\n",
      "- Nodes allocated to the job: sdumont1001\n",
      "<1. starting> Dom Dez 11 22:29:43 -03 2022\n",
      "OMP_NUM_THREADS=24\n",
      "-- output -----------------------------\n",
      "Train: 21.4324\n",
      "Predict x1000: 27.6062\n",
      "Elapsed: 95.6594\n",
      "245.67user 108.43system 1:36.86elapsed 365%CPU (0avgtext+0avgdata 516988maxresident)k\n",
      "905224inputs+8outputs (5major+9324727minor)pagefaults 0swaps\n",
      "-- end --------------------------------\n",
      "<2. quit>                    Dom Dez 11 22:31:20 -03 2022\n"
     ]
    }
   ],
   "source": [
    "runtest(1)\n",
    "runtest(4)\n",
    "runtest(8)\n",
    "runtest(16)\n",
    "runtest(24)"
   ]
  },
  {
   "cell_type": "code",
   "execution_count": null,
   "id": "b4cb82d6-64c6-41ca-bb15-cbafe1e08d33",
   "metadata": {},
   "outputs": [],
   "source": []
  },
  {
   "cell_type": "markdown",
   "id": "f8806f63-612f-44b8-894d-83a15d137d53",
   "metadata": {},
   "source": [
    "## Version"
   ]
  },
  {
   "cell_type": "code",
   "execution_count": 7,
   "id": "f05e1191-d0e5-46c7-bd69-040d4635d239",
   "metadata": {},
   "outputs": [
    {
     "name": "stdout",
     "output_type": "stream",
     "text": [
      "1.15.2\n"
     ]
    }
   ],
   "source": [
    "import tensorflow as tf\n",
    "print(tf.__version__)"
   ]
  },
  {
   "cell_type": "code",
   "execution_count": null,
   "id": "ebfa2ddb-3f55-46a5-85c4-0571836bde36",
   "metadata": {},
   "outputs": [],
   "source": []
  }
 ],
 "metadata": {
  "kernelspec": {
   "display_name": "Python 3 (ipykernel)",
   "language": "python",
   "name": "python3"
  },
  "language_info": {
   "codemirror_mode": {
    "name": "ipython",
    "version": 3
   },
   "file_extension": ".py",
   "mimetype": "text/x-python",
   "name": "python",
   "nbconvert_exporter": "python",
   "pygments_lexer": "ipython3",
   "version": "3.11.0"
  }
 },
 "nbformat": 4,
 "nbformat_minor": 5
}
