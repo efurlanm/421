{
 "cells": [
  {
   "cell_type": "markdown",
   "id": "bb35f6a2-12a9-4430-aa49-18fb12f1fea6",
   "metadata": {},
   "source": [
    "# Burgers Fortran Implementation\n",
    "\n",
    "This is a version used to run on the LNCC SDumont.\n",
    "\n",
    "Based on:\n",
    "\n",
    "- https://github.com/maziarraissi/PINNs/tree/master/appendix/continuous_time_inference%20(Burgers)\n",
    "- https://people.sc.fsu.edu/~jburkardt/f_src/burgers_solution/burgers_solution.html"
   ]
  },
  {
   "cell_type": "markdown",
   "id": "9dd6b7f0-f70c-4512-bf0b-baa04f89e965",
   "metadata": {},
   "source": [
    "Evaluates exact solutions of the time-dependent 1D viscous Burgers equation. The form of the Burgers equation considered here is\n",
    "\n",
    "$ \\large \\frac{\\partial u}{\\partial t} + u \\frac{\\partial u}{\\partial x} = \\nu \\frac{\\partial^2u}{\\partial x^2} \\normalsize,\n",
    "\\quad x \\in [-1,1], \\ t \\in [0, 1] \\\\\n",
    "\\text{IC: } u(0, x) = - sen(\\pi x) \\\\\n",
    "\\text{BC: } u(t, -1) = u(t, 1) = 0 \\\\\n",
    "\\text{Viscosity: }  \\large \\nu = \\frac{0.01}{\\pi}\n",
    "$\n",
    "\n",
    "- approximation using a Gauss-Hermite quadrature rule\n",
    "- evaluate the exact solution at a user-specified set of points, using the quadrature rule\n",
    "- internally, the order of this quadrature rule is set to 8"
   ]
  },
  {
   "cell_type": "markdown",
   "id": "ff7de3f9-6b9c-4b54-a709-0d291184fba6",
   "metadata": {},
   "source": [
    "Input\n",
    "\n",
    "- nu : the viscosity\n",
    "- vtn : the number of time grid points\n",
    "- vxn : the number of spatial grid points\n",
    "- vx(vxn) : the spatial grid points\n",
    "- vt(vtn) : the time grid points\n",
    "\n",
    "Output\n",
    "\n",
    "- vu(vxn,vtn) : the solution of the Burgers equation at each space and time grid point"
   ]
  },
  {
   "cell_type": "code",
   "execution_count": 64,
   "id": "ec701162-58af-49d8-b6a5-c09385e497bc",
   "metadata": {},
   "outputs": [
    {
     "name": "stdout",
     "output_type": "stream",
     "text": [
      "Overwriting burgers.f90\n"
     ]
    }
   ],
   "source": [
    "%%writefile burgers.f90\n",
    "program main\n",
    "use omp_lib\n",
    "implicit none\n",
    "    integer, parameter :: vtn = 100  ! outer loop\n",
    "    integer, parameter :: vxn = 256  ! inner loop\n",
    "    integer            :: i0, i1\n",
    "    double precision   :: nu, thi, tlo, vu(vxn, vtn), vt(vtn), vx(vxn), xhi,  &\n",
    "                          xlo , t0, t1\n",
    "    ! r8 means real type number\n",
    "    double precision, parameter :: r8_pi = 3.141592653589793D+00\n",
    "    character(len=80) filename\n",
    "\n",
    "    t0 = omp_get_wtime()    ! time measurement\n",
    "    i1 = 0\n",
    "    do i0 = 0, 999\n",
    "        i1 = i1 + 1\n",
    "        nu = 0.01D+00/r8_pi\n",
    "        xlo = -1.0D+00\n",
    "        xhi = +1.0D+00\n",
    "        call r8vec_even(vxn, xlo, xhi, vx)\n",
    "        tlo = 0\n",
    "        thi = 0.99D+00\n",
    "        call r8vec_even(vtn, tlo, thi, vt)\n",
    "        call burgers_viscous_time_exact1(nu, vxn, vx, vtn, vt, vu)\n",
    "    enddo\n",
    "    t1 = omp_get_wtime()    ! time measurement\n",
    "    print \"('Elapsed time: 'f0.4)\", t1 - t0\n",
    "    filename = 'burgers03.txt'\n",
    "    call r8mat_write(filename, vxn, vtn, vu)\n",
    "end\n",
    "\n",
    "\n",
    "!\n",
    "! evaluates solution to the Burgers equation.\n",
    "!\n",
    "subroutine burgers_viscous_time_exact1(nu, vxn, vx, vtn, vt, vu)\n",
    "implicit none\n",
    "    integer :: vxn, vtn, qi, vti, vxi\n",
    "    integer, parameter :: qn = 8\n",
    "    double precision :: nu, vx(vxn), vt(vtn), vu(vxn, vtn), bot, c, qw(qn),  &\n",
    "                        qx(qn), top\n",
    "    double precision, parameter :: r8_pi = 3.141592653589793D+00\n",
    "\n",
    "    !  Compute the rule.\n",
    "    call hermite_ek_compute(qn, qx, qw)\n",
    "    \n",
    "    !  Evaluate U(X,T) for later times.\n",
    "    !----------------------------------------\n",
    "    do vti = 1, vtn\n",
    "        if (vt(vti) < 1.0D-5) then\n",
    "            do vxi = 1, vxn\n",
    "                vu(vxi, vti) = -sin(r8_pi*vx(vxi))\n",
    "            end do\n",
    "        else\n",
    "            !----------------------------------------\n",
    "            !$OMP PARALLEL DO PRIVATE(vxi, top, bot, qi, c)  &\n",
    "            !$OMP             SHARED (vxn, vu)\n",
    "            do vxi = 1, vxn\n",
    "                top = 0\n",
    "                bot = 0\n",
    "                do qi = 1, qn\n",
    "                    c = 2.0D+00*sqrt(nu*vt(vti))\n",
    "                    top = top - qw(qi)*c*sin(r8_pi*(vx(vxi) - c*qx(qi))) &\n",
    "                        *exp(-cos(r8_pi*(vx(vxi) - c*qx(qi))) &\n",
    "                        /(2.0D+00*r8_pi*nu))\n",
    "                    bot = bot + qw(qi)*c &\n",
    "                        *exp(-cos(r8_pi*(vx(vxi) - c*qx(qi))) &\n",
    "                        /(2.0D+00*r8_pi*nu))\n",
    "                    vu(vxi, vti) = top/bot\n",
    "                end do\n",
    "            end do\n",
    "            !$OMP END PARALLEL DO\n",
    "        end if\n",
    "    end do\n",
    "end subroutine\n",
    "\n",
    "\n",
    "!\n",
    "! Computes a Gauss-Hermite quadrature rule\n",
    "!\n",
    "subroutine hermite_ek_compute(n, x, w)\n",
    "implicit none\n",
    "    integer :: n, i\n",
    "    double precision :: x(n), w(n), bj(n), zemu\n",
    "    ! Define the zero-th moment.\n",
    "    zemu = gamma(1.0D+00/2.0D+00)\n",
    "    ! Define the Jacobi matrix.\n",
    "    do i = 1, n\n",
    "        bj(i) = real(i, kind=8)/2.0D+00\n",
    "    end do\n",
    "    bj(1:n) = sqrt(bj(1:n))\n",
    "    x(1:n) = 0\n",
    "    w(1) = sqrt(zemu)\n",
    "    w(2:n) = 0\n",
    "    ! Diagonalize the Jacobi matrix.\n",
    "    call imtqlx(n, x, bj, w)\n",
    "    w(1:n) = w(1:n)**2\n",
    "end subroutine\n",
    "\n",
    "\n",
    "!\n",
    "! Diagonalizes a symmetric tridiagonal matrix\n",
    "!\n",
    "subroutine imtqlx(n, d, e, z)\n",
    "implicit none\n",
    "    integer :: n, i, ii, j, k, l, m, mml\n",
    "    integer, parameter :: itn = 30\n",
    "    double precision :: b, c, d(n), e(n), f, g, p, prec, r, s, z(n)\n",
    "\n",
    "    prec = epsilon(prec)\n",
    "    if (n == 1) then\n",
    "        return\n",
    "    end if\n",
    "    e(n) = 0\n",
    "    do l = 1, n\n",
    "        j = 0\n",
    "        do\n",
    "            do m = l, n\n",
    "                if (m == n) then\n",
    "                    exit\n",
    "                end if\n",
    "                if (abs(e(m)) <= prec*(abs(d(m)) + abs(d(m + 1)))) then\n",
    "                    exit\n",
    "                end if\n",
    "            end do\n",
    "            p = d(l)\n",
    "            if (m == l) then\n",
    "                exit\n",
    "            end if\n",
    "            if (itn <= j) then\n",
    "                write (*, '(a)') ' '\n",
    "                write (*, '(a)') 'IMTQLX - Fatal error!'\n",
    "                write (*, '(a)') '  Iteration limit exceeded.'\n",
    "                write (*, '(a,i8)') '  J = ', j\n",
    "                write (*, '(a,i8)') '  L = ', l\n",
    "                write (*, '(a,i8)') '  M = ', m\n",
    "                write (*, '(a,i8)') '  N = ', n\n",
    "                stop\n",
    "            end if\n",
    "            j = j + 1\n",
    "            g = (d(l + 1) - p)/(2.0D+00*e(l))\n",
    "            r = sqrt(g*g + 1.0D+00)\n",
    "            g = d(m) - p + e(l)/(g + sign(r, g))\n",
    "            s = 1.0D+00\n",
    "            c = 1.0D+00\n",
    "            p = 0\n",
    "            mml = m - l\n",
    "            do ii = 1, mml\n",
    "                i = m - ii\n",
    "                f = s*e(i)\n",
    "                b = c*e(i)\n",
    "                if (abs(g) <= abs(f)) then\n",
    "                    c = g/f\n",
    "                    r = sqrt(c*c + 1.0D+00)\n",
    "                    e(i + 1) = f*r\n",
    "                    s = 1.0D+00/r\n",
    "                    c = c*s\n",
    "                else\n",
    "                    s = f/g\n",
    "                    r = sqrt(s*s + 1.0D+00)\n",
    "                    e(i + 1) = g*r\n",
    "                    c = 1.0D+00/r\n",
    "                    s = s*c\n",
    "                end if\n",
    "                g = d(i + 1) - p\n",
    "                r = (d(i) - g)*s + 2.0D+00*c*b\n",
    "                p = s*r\n",
    "                d(i + 1) = g + p\n",
    "                g = c*r - b\n",
    "                f = z(i + 1)\n",
    "                z(i + 1) = s*z(i) + c*f\n",
    "                z(i) = c*z(i) - s*f\n",
    "            end do\n",
    "            d(l) = d(l) - p\n",
    "            e(l) = g\n",
    "            e(m) = 0\n",
    "        end do\n",
    "    end do\n",
    "    !  Sorting.\n",
    "    do ii = 2, n\n",
    "        i = ii - 1\n",
    "        k = i\n",
    "        p = d(i)\n",
    "        do j = ii, n\n",
    "            if (d(j) < p) then\n",
    "                k = j\n",
    "                p = d(j)\n",
    "            end if\n",
    "        end do\n",
    "        if (k /= i) then\n",
    "            d(k) = d(i)\n",
    "            d(i) = p\n",
    "            p = z(i)\n",
    "            z(i) = z(k)\n",
    "            z(k) = p\n",
    "        end if\n",
    "    end do\n",
    "end subroutine\n",
    "\n",
    "\n",
    "!\n",
    "! Returns an vector of R8 of evenly spaced values\n",
    "!\n",
    "subroutine r8vec_even(n, alo, ahi, a)\n",
    "implicit none\n",
    "    integer :: n, i\n",
    "    double precision :: a(n), ahi, alo\n",
    "\n",
    "    if (n == 1) then\n",
    "        a(1) = 0.5D+00 * (alo + ahi)\n",
    "    else\n",
    "        do i = 1, n\n",
    "            a(i) = ( dble(n - i) * alo   &\n",
    "                   + dble(i - 1) * ahi)  &\n",
    "                   / dble(n - 1)\n",
    "        end do\n",
    "    end if\n",
    "end subroutine\n",
    "\n",
    "\n",
    "!\n",
    "! Writes an array of R8 values to a file\n",
    "!\n",
    "subroutine r8mat_write(output_filename, m, n, table)\n",
    "implicit none\n",
    "    integer :: m, n, j, output_status, output_unit\n",
    "    character(len=*) :: output_filename\n",
    "    character(len=30) :: string\n",
    "    double precision :: table(m, n)\n",
    "    \n",
    "    !\n",
    "    !  Open the file.\n",
    "    !\n",
    "    call get_unit(output_unit)\n",
    "    open (unit=output_unit, file=output_filename, &\n",
    "        status='replace', iostat=output_status)\n",
    "    if (output_status /= 0) then\n",
    "        write (*, '(a)') ' '\n",
    "        write (*, '(a)') 'R8MAT_WRITE - Fatal error!'\n",
    "        write (*, '(a,i8)') '  Could not open the output file \"'// &\n",
    "            trim(output_filename)//'\" on unit ', output_unit\n",
    "        output_unit = -1\n",
    "        stop\n",
    "    end if\n",
    "    !  Create a format string.\n",
    "    !  For less precision in the output file, try:\n",
    "    !     '(', m, 'g', 14, '.', 6, ')'\n",
    "    if (0 < m .and. 0 < n) then\n",
    "        write (string, '(a1,i8,a1,i8,a1,i8,a1)') '(', m, 'g', 24, '.', 16, ')'\n",
    "        !  Write the data.\n",
    "        do j = 1, n\n",
    "            write (output_unit, string) table(1:m, j)\n",
    "        end do\n",
    "    end if\n",
    "    !  Close the file.\n",
    "    close (unit=output_unit)\n",
    "end subroutine\n",
    "\n",
    "\n",
    "!\n",
    "! returns a free FORTRAN unit number which is not currently\n",
    "! associated with an I/O device\n",
    "!\n",
    "subroutine get_unit(iunit)\n",
    "implicit none\n",
    "    integer i, ios, iunit\n",
    "    logical lopen\n",
    "    iunit = 0\n",
    "    do i = 1, 99\n",
    "        if (i /= 5 .and. i /= 6 .and. i /= 9) then\n",
    "            inquire (unit=i, opened=lopen, iostat=ios)\n",
    "            if (ios == 0) then\n",
    "                if (.not. lopen) then\n",
    "                    iunit = i\n",
    "                    return\n",
    "                end if\n",
    "            end if\n",
    "        end if\n",
    "    end do\n",
    "end subroutine"
   ]
  },
  {
   "cell_type": "markdown",
   "id": "5e868e80-c6ff-4cc6-b881-732fe7c36635",
   "metadata": {},
   "source": [
    "Checking:"
   ]
  },
  {
   "cell_type": "code",
   "execution_count": 65,
   "id": "1faedaec-c953-4280-aa77-a0a55d85027d",
   "metadata": {},
   "outputs": [],
   "source": [
    "! gfortran -O3 -fopenmp burgers.f90 -o burgers"
   ]
  },
  {
   "cell_type": "code",
   "execution_count": 68,
   "id": "2b9f93b2-a71a-42f0-887c-9873fcc7e597",
   "metadata": {},
   "outputs": [
    {
     "name": "stdout",
     "output_type": "stream",
     "text": [
      "Elapsed time: 21.2476\n"
     ]
    }
   ],
   "source": [
    "! OMP_NUM_THREADS=1 ./burgers"
   ]
  },
  {
   "cell_type": "code",
   "execution_count": 69,
   "id": "31d9a15f-1db3-408d-ab3f-554381ff0b1d",
   "metadata": {},
   "outputs": [
    {
     "name": "stdout",
     "output_type": "stream",
     "text": [
      "Elapsed time: 6.6035\n"
     ]
    }
   ],
   "source": [
    "! OMP_NUM_THREADS=4 ./burgers"
   ]
  },
  {
   "cell_type": "code",
   "execution_count": 70,
   "id": "49eb6371-898c-48c1-95c9-964256691243",
   "metadata": {},
   "outputs": [
    {
     "name": "stdout",
     "output_type": "stream",
     "text": [
      "Elapsed time: 3.6634\n"
     ]
    }
   ],
   "source": [
    "! OMP_NUM_THREADS=8 ./burgers"
   ]
  },
  {
   "cell_type": "markdown",
   "id": "aea05469-f8dc-445a-ace3-0d1623d62c4e",
   "metadata": {},
   "source": [
    "Copy to /scrath in order to run on node:"
   ]
  },
  {
   "cell_type": "code",
   "execution_count": 71,
   "id": "dfc76b99-4742-40e0-b2b3-2f818a01774c",
   "metadata": {},
   "outputs": [],
   "source": [
    "%%bash\n",
    "BASE=/scratch${HOME#/prj}/421\n",
    "cp burgers $BASE"
   ]
  },
  {
   "cell_type": "markdown",
   "id": "edfa3e99-673d-40be-bcba-6074c84c77ae",
   "metadata": {},
   "source": [
    "Slurm script:"
   ]
  },
  {
   "cell_type": "code",
   "execution_count": 72,
   "id": "b8953972-2353-4df0-bad8-24c22214784d",
   "metadata": {},
   "outputs": [
    {
     "name": "stdout",
     "output_type": "stream",
     "text": [
      "Overwriting burgf90.srm\n"
     ]
    }
   ],
   "source": [
    "%%writefile burgf90.srm\n",
    "#!/bin/bash\n",
    "#SBATCH --job-name burgf90      # SLURM_JOB_NAME\n",
    "#SBATCH --partition cpu_dev     # SLURM_JOB_PARTITION\n",
    "#SBATCH --nodes=1               # SLURM_JOB_NUM_NODES\n",
    "#SBATCH --ntasks-per-node=1     # SLURM_NTASKS_PER_NODE\n",
    "#SBATCH --cpus-per-task=1       # SLURM_CPUS_PER_TASK  $OMP_THREADS\n",
    "#SBATCH --time=00:05:00         # Limit execution time\n",
    "\n",
    "# VARIABLES OF INTEREST IN THE SLURM ENVIRONMENT\n",
    "# <https://slurm.schedmd.com/sbatch.html>\n",
    "# SLURM_PROCID\n",
    "#     The MPI rank (or relative process ID) of the current process.\n",
    "# SLURM_LOCALID\n",
    "#     Node local task ID for the process within a job.\n",
    "# SLURM_NODEID\n",
    "#     ID of the nodes allocated. \n",
    "\n",
    "echo '========================================'\n",
    "echo '- Job ID:' $SLURM_JOB_ID\n",
    "echo '- # of nodes in the job:' $SLURM_JOB_NUM_NODES\n",
    "echo '- # of tasks per node:' $SLURM_NTASKS_PER_NODE\n",
    "echo '- # of tasks:' $SLURM_NTASKS\n",
    "echo '- # of cpus per task:' $SLURM_CPUS_PER_TASK\n",
    "echo '- Dir from which sbatch was invoked:' ${SLURM_SUBMIT_DIR##*/}\n",
    "echo -n '- Nodes allocated to the job: '\n",
    "nodeset -e $SLURM_JOB_NODELIST\n",
    "\n",
    "# load the Python environment\n",
    "SCR=/scratch${PWD#/prj}\n",
    "BASE=/scratch${HOME#/prj}/miniconda3\n",
    "source $BASE/etc/profile.d/conda.sh\n",
    "conda activate\n",
    "conda activate tf1\n",
    "cd $SCR\n",
    "\n",
    "# run\n",
    "echo -n '<1. starting> ' && date\n",
    "echo \"OMP_NUM_THREADS=$SLURM_CPUS_PER_TASK\"\n",
    "echo '-- output -----------------------------'\n",
    "               \n",
    "export OMP_NUM_THREADS=$SLURM_CPUS_PER_TASK\n",
    "srun -n $SLURM_NTASKS -c $SLURM_CPUS_PER_TASK time ./burgers\n",
    "               \n",
    "echo '-- end --------------------------------'\n",
    "echo -n '<2. quit> ' && date"
   ]
  },
  {
   "cell_type": "markdown",
   "id": "389da198-50c6-4982-b5b6-77d658d26bc4",
   "metadata": {},
   "source": [
    "Code to submit a job to the execution queue, and wait for the result:"
   ]
  },
  {
   "cell_type": "code",
   "execution_count": 3,
   "id": "784ed386-47b5-4288-b79b-abaa3f81bcb9",
   "metadata": {
    "tags": []
   },
   "outputs": [],
   "source": [
    "import time\n",
    "\n",
    "def runtest(tasks):\n",
    "    sub = !sbatch --cpus-per-task={tasks} burgf90.srm\n",
    "    print(sub[0], end='.')\n",
    "    job = sub[0].replace('Submitted batch job ','')\n",
    "    c = [job]\n",
    "    while job in c:\n",
    "        time.sleep(10)\n",
    "        print(end='.')\n",
    "        c = !squeue --job {job} --noheader --format \"%i\"\n",
    "    print('')\n",
    "    out = !echo /scratch${PWD#/prj}/slurm-\n",
    "    %cat {out[0] + job}.out"
   ]
  },
  {
   "cell_type": "markdown",
   "id": "128424ec-b531-48a8-b127-70cb11c0930c",
   "metadata": {},
   "source": [
    "## OMP_NUM_THREADS=1"
   ]
  },
  {
   "cell_type": "code",
   "execution_count": 74,
   "id": "c85d22d0-0a77-4900-9bc8-7d558e4f47ec",
   "metadata": {},
   "outputs": [
    {
     "name": "stdout",
     "output_type": "stream",
     "text": [
      "Submitted batch job 10723667.....\n",
      "========================================\n",
      "- Job ID: 10723667\n",
      "- # of nodes in the job: 1\n",
      "- # of tasks per node: 1\n",
      "- # of tasks: 1\n",
      "- # of cpus per task: 1\n",
      "- Dir from which sbatch was invoked: 421\n",
      "- Nodes allocated to the job: sdumont1000\n",
      "<1. starting> Sáb Dez 10 20:40:26 -03 2022\n",
      "OMP_NUM_THREADS=1\n",
      "-- output -----------------------------\n",
      "Elapsed time: 20.0968\n",
      "20.08user 0.03system 0:20.15elapsed 99%CPU (0avgtext+0avgdata 1592maxresident)k\n",
      "3152inputs+1208outputs (3major+713minor)pagefaults 0swaps\n",
      "-- end --------------------------------\n",
      "<2. quit>                    Sáb Dez 10 20:40:46 -03 2022\n"
     ]
    }
   ],
   "source": [
    "runtest(1)"
   ]
  },
  {
   "cell_type": "markdown",
   "id": "04ba8cce-b00c-4884-96f3-a791ed54de0b",
   "metadata": {
    "tags": []
   },
   "source": [
    "## OMP_NUM_THREADS=4"
   ]
  },
  {
   "cell_type": "code",
   "execution_count": 75,
   "id": "d0305935-38d9-4427-bb00-1221322c2c79",
   "metadata": {},
   "outputs": [
    {
     "name": "stdout",
     "output_type": "stream",
     "text": [
      "Submitted batch job 10723668...\n",
      "========================================\n",
      "- Job ID: 10723668\n",
      "- # of nodes in the job: 1\n",
      "- # of tasks per node: 1\n",
      "- # of tasks: 1\n",
      "- # of cpus per task: 4\n",
      "- Dir from which sbatch was invoked: 421\n",
      "- Nodes allocated to the job: sdumont1000\n",
      "<1. starting> Sáb Dez 10 20:41:01 -03 2022\n",
      "OMP_NUM_THREADS=4\n",
      "-- output -----------------------------\n",
      "Elapsed time: 6.2506\n",
      "24.97user 0.05system 0:06.28elapsed 398%CPU (0avgtext+0avgdata 1636maxresident)k\n",
      "3152inputs+1208outputs (3major+721minor)pagefaults 0swaps\n",
      "-- end --------------------------------\n",
      "<2. quit>                    Sáb Dez 10 20:41:11 -03 2022\n"
     ]
    }
   ],
   "source": [
    "runtest(4)"
   ]
  },
  {
   "cell_type": "markdown",
   "id": "8b8b00dc-beb1-4f80-b7f1-baf7cac9fe7c",
   "metadata": {},
   "source": [
    "## OMP_NUM_THREADS=8"
   ]
  },
  {
   "cell_type": "code",
   "execution_count": 76,
   "id": "9c8c2219-784b-4535-9e88-9869edaf1661",
   "metadata": {},
   "outputs": [
    {
     "name": "stdout",
     "output_type": "stream",
     "text": [
      "Submitted batch job 10723669...\n",
      "========================================\n",
      "- Job ID: 10723669\n",
      "- # of nodes in the job: 1\n",
      "- # of tasks per node: 1\n",
      "- # of tasks: 1\n",
      "- # of cpus per task: 8\n",
      "- Dir from which sbatch was invoked: 421\n",
      "- Nodes allocated to the job: sdumont1000\n",
      "<1. starting> Sáb Dez 10 20:41:21 -03 2022\n",
      "OMP_NUM_THREADS=8\n",
      "-- output -----------------------------\n",
      "Elapsed time: 3.5162\n",
      "28.09user 0.07system 0:03.55elapsed 791%CPU (0avgtext+0avgdata 1676maxresident)k\n",
      "3152inputs+1208outputs (3major+1269minor)pagefaults 0swaps\n",
      "-- end --------------------------------\n",
      "<2. quit>                    Sáb Dez 10 20:41:26 -03 2022\n"
     ]
    }
   ],
   "source": [
    "runtest(8)"
   ]
  },
  {
   "cell_type": "markdown",
   "id": "a76c87dd-ca0c-492b-ae21-38ca5c4a8617",
   "metadata": {},
   "source": [
    "## OMP_NUM_THREADS=16"
   ]
  },
  {
   "cell_type": "code",
   "execution_count": 3,
   "id": "eed3b765-6097-4be4-9633-86fa60f107e9",
   "metadata": {},
   "outputs": [
    {
     "name": "stdout",
     "output_type": "stream",
     "text": [
      "Submitted batch job 10723677...\n",
      "========================================\n",
      "- Job ID: 10723677\n",
      "- # of nodes in the job: 1\n",
      "- # of tasks per node: 1\n",
      "- # of tasks: 1\n",
      "- # of cpus per task: 16\n",
      "- Dir from which sbatch was invoked: 421\n",
      "- Nodes allocated to the job: sdumont1000\n",
      "<1. starting> Sáb Dez 10 21:04:32 -03 2022\n",
      "OMP_NUM_THREADS=16\n",
      "-- output -----------------------------\n",
      "Elapsed time: 2.3667\n",
      "37.46user 0.09system 0:02.42elapsed 1549%CPU (0avgtext+0avgdata 1744maxresident)k\n",
      "3152inputs+1208outputs (3major+1188minor)pagefaults 0swaps\n",
      "-- end --------------------------------\n",
      "<2. quit>                    Sáb Dez 10 21:04:35 -03 2022\n"
     ]
    }
   ],
   "source": [
    "runtest(16)"
   ]
  },
  {
   "cell_type": "markdown",
   "id": "980eee51-8bde-47c1-9c52-409edf14343a",
   "metadata": {},
   "source": [
    "## OMP_NUM_THREADS=24"
   ]
  },
  {
   "cell_type": "code",
   "execution_count": 5,
   "id": "3ebd6068-26e1-41c5-b30c-3276b1c9210a",
   "metadata": {},
   "outputs": [
    {
     "name": "stdout",
     "output_type": "stream",
     "text": [
      "Submitted batch job 10723680...\n",
      "========================================\n",
      "- Job ID: 10723680\n",
      "- # of nodes in the job: 1\n",
      "- # of tasks per node: 1\n",
      "- # of tasks: 1\n",
      "- # of cpus per task: 24\n",
      "- Dir from which sbatch was invoked: 421\n",
      "- Nodes allocated to the job: sdumont1000\n",
      "<1. starting> Sáb Dez 10 21:06:23 -03 2022\n",
      "OMP_NUM_THREADS=24\n",
      "-- output -----------------------------\n",
      "Elapsed time: 2.0607\n",
      "49.18user 0.12system 0:02.12elapsed 2319%CPU (0avgtext+0avgdata 1820maxresident)k\n",
      "3152inputs+1208outputs (3major+2289minor)pagefaults 0swaps\n",
      "-- end --------------------------------\n",
      "<2. quit>                    Sáb Dez 10 21:06:25 -03 2022\n"
     ]
    }
   ],
   "source": [
    "runtest(24)"
   ]
  },
  {
   "cell_type": "markdown",
   "id": "75491b6c-23f6-4f1a-b8ce-9d502c97edc4",
   "metadata": {},
   "source": [
    "# Execution 2"
   ]
  },
  {
   "cell_type": "markdown",
   "id": "1ecaebf2-d8d5-4c78-b983-513939b812e6",
   "metadata": {},
   "source": [
    "(there are 3 measurements of elapsed time in total)"
   ]
  },
  {
   "cell_type": "code",
   "execution_count": 4,
   "id": "fe322f79-731e-4877-b698-f400602a8c38",
   "metadata": {},
   "outputs": [
    {
     "name": "stdout",
     "output_type": "stream",
     "text": [
      "Submitted batch job 10724679.....\n",
      "========================================\n",
      "- Job ID: 10724679\n",
      "- # of nodes in the job: 1\n",
      "- # of tasks per node: 1\n",
      "- # of tasks: 1\n",
      "- # of cpus per task: 1\n",
      "- Dir from which sbatch was invoked: 421\n",
      "- Nodes allocated to the job: sdumont1487\n",
      "<1. starting> Dom Dez 11 21:59:01 -03 2022\n",
      "OMP_NUM_THREADS=1\n",
      "-- output -----------------------------\n",
      "Elapsed time: 20.0863\n",
      "20.05user 0.04system 0:20.14elapsed 99%CPU (0avgtext+0avgdata 1592maxresident)k\n",
      "3696inputs+1208outputs (3major+712minor)pagefaults 0swaps\n",
      "-- end --------------------------------\n",
      "<2. quit>                    Dom Dez 11 21:59:22 -03 2022\n",
      "Submitted batch job 10724683...\n",
      "========================================\n",
      "- Job ID: 10724683\n",
      "- # of nodes in the job: 1\n",
      "- # of tasks per node: 1\n",
      "- # of tasks: 1\n",
      "- # of cpus per task: 4\n",
      "- Dir from which sbatch was invoked: 421\n",
      "- Nodes allocated to the job: sdumont1487\n",
      "<1. starting> Dom Dez 11 21:59:35 -03 2022\n",
      "OMP_NUM_THREADS=4\n",
      "-- output -----------------------------\n",
      "Elapsed time: 6.2738\n",
      "25.05user 0.06system 0:06.30elapsed 398%CPU (0avgtext+0avgdata 1636maxresident)k\n",
      "3328inputs+1208outputs (3major+1100minor)pagefaults 0swaps\n",
      "-- end --------------------------------\n",
      "<2. quit>                    Dom Dez 11 21:59:41 -03 2022\n",
      "Submitted batch job 10724684..\n",
      "========================================\n",
      "- Job ID: 10724684\n",
      "- # of nodes in the job: 1\n",
      "- # of tasks per node: 1\n",
      "- # of tasks: 1\n",
      "- # of cpus per task: 8\n",
      "- Dir from which sbatch was invoked: 421\n",
      "- Nodes allocated to the job: sdumont1487\n",
      "<1. starting> Dom Dez 11 21:59:56 -03 2022\n",
      "OMP_NUM_THREADS=8\n",
      "-- output -----------------------------\n",
      "Elapsed time: 4.1808\n",
      "33.39user 0.08system 0:04.21elapsed 794%CPU (0avgtext+0avgdata 1676maxresident)k\n",
      "3344inputs+1208outputs (3major+689minor)pagefaults 0swaps\n",
      "-- end --------------------------------\n",
      "<2. quit>                    Dom Dez 11 22:00:00 -03 2022\n",
      "Submitted batch job 10724685..\n",
      "========================================\n",
      "- Job ID: 10724685\n",
      "- # of nodes in the job: 1\n",
      "- # of tasks per node: 1\n",
      "- # of tasks: 1\n",
      "- # of cpus per task: 16\n",
      "- Dir from which sbatch was invoked: 421\n",
      "- Nodes allocated to the job: sdumont1487\n",
      "<1. starting> Dom Dez 11 22:00:05 -03 2022\n",
      "OMP_NUM_THREADS=16\n",
      "-- output -----------------------------\n",
      "Elapsed time: 3.1632\n",
      "48.98user 0.09system 0:03.19elapsed 1535%CPU (0avgtext+0avgdata 1744maxresident)k\n",
      "3344inputs+1208outputs (3major+2287minor)pagefaults 0swaps\n",
      "-- end --------------------------------\n",
      "<2. quit>                    Dom Dez 11 22:00:08 -03 2022\n",
      "Submitted batch job 10724686..\n",
      "========================================\n",
      "- Job ID: 10724686\n",
      "- # of nodes in the job: 1\n",
      "- # of tasks per node: 1\n",
      "- # of tasks: 1\n",
      "- # of cpus per task: 24\n",
      "- Dir from which sbatch was invoked: 421\n",
      "- Nodes allocated to the job: sdumont1487\n",
      "<1. starting> Dom Dez 11 22:00:16 -03 2022\n",
      "OMP_NUM_THREADS=24\n",
      "-- output -----------------------------\n",
      "Elapsed time: 2.1864\n",
      "52.43user 0.08system 0:02.22elapsed 2365%CPU (0avgtext+0avgdata 1820maxresident)k\n",
      "3344inputs+1208outputs (3major+774minor)pagefaults 0swaps\n",
      "-- end --------------------------------\n",
      "<2. quit>                    Dom Dez 11 22:00:19 -03 2022\n"
     ]
    }
   ],
   "source": [
    "runtest(1)\n",
    "runtest(4)\n",
    "runtest(8)\n",
    "runtest(16)\n",
    "runtest(24)"
   ]
  },
  {
   "cell_type": "markdown",
   "id": "bd38ef3f-6875-4e31-8bd2-eb5b8db95de0",
   "metadata": {},
   "source": [
    "# Execution 3"
   ]
  },
  {
   "cell_type": "code",
   "execution_count": 5,
   "id": "4d026678-1f7a-48c6-9e0c-42b24f470872",
   "metadata": {},
   "outputs": [
    {
     "name": "stdout",
     "output_type": "stream",
     "text": [
      "Submitted batch job 10724687....\n",
      "========================================\n",
      "- Job ID: 10724687\n",
      "- # of nodes in the job: 1\n",
      "- # of tasks per node: 1\n",
      "- # of tasks: 1\n",
      "- # of cpus per task: 1\n",
      "- Dir from which sbatch was invoked: 421\n",
      "- Nodes allocated to the job: sdumont1487\n",
      "<1. starting> Dom Dez 11 22:00:29 -03 2022\n",
      "OMP_NUM_THREADS=1\n",
      "-- output -----------------------------\n",
      "Elapsed time: 20.2822\n",
      "20.27user 0.02system 0:20.31elapsed 99%CPU (0avgtext+0avgdata 1592maxresident)k\n",
      "3400inputs+1208outputs (3major+713minor)pagefaults 0swaps\n",
      "-- end --------------------------------\n",
      "<2. quit>                    Dom Dez 11 22:00:49 -03 2022\n",
      "Submitted batch job 10724688...\n",
      "========================================\n",
      "- Job ID: 10724688\n",
      "- # of nodes in the job: 1\n",
      "- # of tasks per node: 1\n",
      "- # of tasks: 1\n",
      "- # of cpus per task: 4\n",
      "- Dir from which sbatch was invoked: 421\n",
      "- Nodes allocated to the job: sdumont1001\n",
      "<1. starting> Dom Dez 11 22:00:57 -03 2022\n",
      "OMP_NUM_THREADS=4\n",
      "-- output -----------------------------\n",
      "Elapsed time: 6.9311\n",
      "27.67user 0.07system 0:06.97elapsed 398%CPU (0avgtext+0avgdata 1636maxresident)k\n",
      "3416inputs+1208outputs (3major+730minor)pagefaults 0swaps\n",
      "-- end --------------------------------\n",
      "<2. quit>                    Dom Dez 11 22:01:04 -03 2022\n",
      "Submitted batch job 10724689..\n",
      "========================================\n",
      "- Job ID: 10724689\n",
      "- # of nodes in the job: 1\n",
      "- # of tasks per node: 1\n",
      "- # of tasks: 1\n",
      "- # of cpus per task: 8\n",
      "- Dir from which sbatch was invoked: 421\n",
      "- Nodes allocated to the job: sdumont1001\n",
      "<1. starting> Dom Dez 11 22:01:18 -03 2022\n",
      "OMP_NUM_THREADS=8\n",
      "-- output -----------------------------\n",
      "Elapsed time: 3.5178\n",
      "28.10user 0.07system 0:03.55elapsed 793%CPU (0avgtext+0avgdata 1680maxresident)k\n",
      "3152inputs+1208outputs (3major+832minor)pagefaults 0swaps\n",
      "-- end --------------------------------\n",
      "<2. quit>                    Dom Dez 11 22:01:22 -03 2022\n",
      "Submitted batch job 10724691..\n",
      "========================================\n",
      "- Job ID: 10724691\n",
      "- # of nodes in the job: 1\n",
      "- # of tasks per node: 1\n",
      "- # of tasks: 1\n",
      "- # of cpus per task: 16\n",
      "- Dir from which sbatch was invoked: 421\n",
      "- Nodes allocated to the job: sdumont1001\n",
      "<1. starting> Dom Dez 11 22:01:26 -03 2022\n",
      "OMP_NUM_THREADS=16\n",
      "-- output -----------------------------\n",
      "Elapsed time: 2.6068\n",
      "40.50user 0.09system 0:02.64elapsed 1537%CPU (0avgtext+0avgdata 1744maxresident)k\n",
      "3152inputs+1208outputs (3major+1831minor)pagefaults 0swaps\n",
      "-- end --------------------------------\n",
      "<2. quit>                    Dom Dez 11 22:01:29 -03 2022\n",
      "Submitted batch job 10724692..\n",
      "========================================\n",
      "- Job ID: 10724692\n",
      "- # of nodes in the job: 1\n",
      "- # of tasks per node: 1\n",
      "- # of tasks: 1\n",
      "- # of cpus per task: 24\n",
      "- Dir from which sbatch was invoked: 421\n",
      "- Nodes allocated to the job: sdumont1001\n",
      "<1. starting> Dom Dez 11 22:01:36 -03 2022\n",
      "OMP_NUM_THREADS=24\n",
      "-- output -----------------------------\n",
      "Elapsed time: 1.9427\n",
      "46.57user 0.09system 0:01.97elapsed 2362%CPU (0avgtext+0avgdata 1820maxresident)k\n",
      "3152inputs+1208outputs (3major+2304minor)pagefaults 0swaps\n",
      "-- end --------------------------------\n",
      "<2. quit>                    Dom Dez 11 22:01:39 -03 2022\n"
     ]
    }
   ],
   "source": [
    "runtest(1)\n",
    "runtest(4)\n",
    "runtest(8)\n",
    "runtest(16)\n",
    "runtest(24)"
   ]
  },
  {
   "cell_type": "markdown",
   "id": "d506cfbe-452f-467d-8139-5e5bdb94789a",
   "metadata": {},
   "source": [
    "---"
   ]
  },
  {
   "cell_type": "markdown",
   "id": "6704636d-7df5-4fcc-b770-4be2a25d224a",
   "metadata": {},
   "source": [
    "## Versions"
   ]
  },
  {
   "cell_type": "code",
   "execution_count": 37,
   "id": "b9ca5159-281c-4aad-9abb-44cce3f1963e",
   "metadata": {},
   "outputs": [
    {
     "name": "stdout",
     "output_type": "stream",
     "text": [
      "GNU Fortran (GCC) 4.8.5 20150623 (Red Hat 4.8.5-44)\n",
      "Copyright (C) 2015 Free Software Foundation, Inc.\n",
      "\n",
      "GNU Fortran comes with NO WARRANTY, to the extent permitted by law.\n",
      "You may redistribute copies of GNU Fortran\n",
      "under the terms of the GNU General Public License.\n",
      "For more information about these matters, see the file named COPYING\n",
      "\n"
     ]
    }
   ],
   "source": [
    "! gfortran --version"
   ]
  },
  {
   "cell_type": "code",
   "execution_count": 1,
   "id": "9a21cc7d-49dc-4e74-9cc2-3676b4f3333f",
   "metadata": {},
   "outputs": [
    {
     "name": "stdout",
     "output_type": "stream",
     "text": [
      "\tlinux-vdso.so.1 =>  (0x00007ffd875c5000)\n",
      "\tlibgfortran.so.3 => /lib64/libgfortran.so.3 (0x00007f649f7ef000)\n",
      "\tlibm.so.6 => /lib64/libm.so.6 (0x00007f649f4ed000)\n",
      "\tlibgomp.so.1 => /lib64/libgomp.so.1 (0x00007f649f2c7000)\n",
      "\tlibgcc_s.so.1 => /lib64/libgcc_s.so.1 (0x00007f649f0b1000)\n",
      "\tlibquadmath.so.0 => /lib64/libquadmath.so.0 (0x00007f649ee75000)\n",
      "\tlibpthread.so.0 => /lib64/libpthread.so.0 (0x00007f649ec59000)\n",
      "\tlibc.so.6 => /lib64/libc.so.6 (0x00007f649e88b000)\n",
      "\t/lib64/ld-linux-x86-64.so.2 (0x00007f649fb11000)\n"
     ]
    }
   ],
   "source": [
    "! ldd burgers"
   ]
  },
  {
   "cell_type": "code",
   "execution_count": 2,
   "id": "7dd66434-5815-4cea-8761-a5da1ac0b4a5",
   "metadata": {},
   "outputs": [
    {
     "name": "stdout",
     "output_type": "stream",
     "text": [
      "/scratch/ampemi/xxxx.yyyy/miniconda3/envs/tf1/bin:/scratch/ampemi/xxxx.yyyy/miniconda3/condabin:/usr/local/bin:/usr/bin:/usr/local/sbin:/usr/sbin:/opt/ibutils/bin:/prj/ampemi/xxxx.yyyy/.local/bin:/prj/ampemi/xxxx.yyyy/bin\n"
     ]
    }
   ],
   "source": [
    "! echo $PATH"
   ]
  },
  {
   "cell_type": "code",
   "execution_count": 3,
   "id": "442f77f5-b851-46db-9728-38c0c2994625",
   "metadata": {},
   "outputs": [
    {
     "name": "stdout",
     "output_type": "stream",
     "text": [
      "201107\n"
     ]
    }
   ],
   "source": [
    "! echo _OPENMP | gcc -fopenmp -E -x c - | tail -1"
   ]
  },
  {
   "cell_type": "markdown",
   "id": "deff7e5b-06f5-4c17-9c78-c2573ed3a924",
   "metadata": {},
   "source": [
    "from https://gcc.gnu.org/wiki/openmp : 201107 --> OpenMP v3.1"
   ]
  }
 ],
 "metadata": {
  "kernelspec": {
   "display_name": "Python 3 (ipykernel)",
   "language": "python",
   "name": "python3"
  },
  "language_info": {
   "codemirror_mode": {
    "name": "ipython",
    "version": 3
   },
   "file_extension": ".py",
   "mimetype": "text/x-python",
   "name": "python",
   "nbconvert_exporter": "python",
   "pygments_lexer": "ipython3",
   "version": "3.11.0"
  }
 },
 "nbformat": 4,
 "nbformat_minor": 5
}
